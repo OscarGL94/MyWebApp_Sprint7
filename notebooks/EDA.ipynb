{
 "cells": [
  {
   "cell_type": "code",
   "execution_count": 3,
   "id": "740bcfb8",
   "metadata": {},
   "outputs": [
    {
     "data": {
      "application/vnd.plotly.v1+json": {
       "config": {
        "plotlyServerURL": "https://plot.ly"
       },
       "data": [
        {
         "bingroup": "x",
         "hovertemplate": "Close=%{x}<br>count=%{y}<extra></extra>",
         "legendgroup": "",
         "marker": {
          "color": "#636efa",
          "pattern": {
           "shape": ""
          }
         },
         "name": "",
         "nbinsx": 50,
         "orientation": "v",
         "showlegend": false,
         "type": "histogram",
         "x": {
          "bdata": "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",
          "dtype": "f8"
         },
         "xaxis": "x",
         "yaxis": "y"
        }
       ],
       "layout": {
        "barmode": "relative",
        "legend": {
         "tracegroupgap": 0
        },
        "template": {
         "data": {
          "bar": [
           {
            "error_x": {
             "color": "#2a3f5f"
            },
            "error_y": {
             "color": "#2a3f5f"
            },
            "marker": {
             "line": {
              "color": "#E5ECF6",
              "width": 0.5
             },
             "pattern": {
              "fillmode": "overlay",
              "size": 10,
              "solidity": 0.2
             }
            },
            "type": "bar"
           }
          ],
          "barpolar": [
           {
            "marker": {
             "line": {
              "color": "#E5ECF6",
              "width": 0.5
             },
             "pattern": {
              "fillmode": "overlay",
              "size": 10,
              "solidity": 0.2
             }
            },
            "type": "barpolar"
           }
          ],
          "carpet": [
           {
            "aaxis": {
             "endlinecolor": "#2a3f5f",
             "gridcolor": "white",
             "linecolor": "white",
             "minorgridcolor": "white",
             "startlinecolor": "#2a3f5f"
            },
            "baxis": {
             "endlinecolor": "#2a3f5f",
             "gridcolor": "white",
             "linecolor": "white",
             "minorgridcolor": "white",
             "startlinecolor": "#2a3f5f"
            },
            "type": "carpet"
           }
          ],
          "choropleth": [
           {
            "colorbar": {
             "outlinewidth": 0,
             "ticks": ""
            },
            "type": "choropleth"
           }
          ],
          "contour": [
           {
            "colorbar": {
             "outlinewidth": 0,
             "ticks": ""
            },
            "colorscale": [
             [
              0,
              "#0d0887"
             ],
             [
              0.1111111111111111,
              "#46039f"
             ],
             [
              0.2222222222222222,
              "#7201a8"
             ],
             [
              0.3333333333333333,
              "#9c179e"
             ],
             [
              0.4444444444444444,
              "#bd3786"
             ],
             [
              0.5555555555555556,
              "#d8576b"
             ],
             [
              0.6666666666666666,
              "#ed7953"
             ],
             [
              0.7777777777777778,
              "#fb9f3a"
             ],
             [
              0.8888888888888888,
              "#fdca26"
             ],
             [
              1,
              "#f0f921"
             ]
            ],
            "type": "contour"
           }
          ],
          "contourcarpet": [
           {
            "colorbar": {
             "outlinewidth": 0,
             "ticks": ""
            },
            "type": "contourcarpet"
           }
          ],
          "heatmap": [
           {
            "colorbar": {
             "outlinewidth": 0,
             "ticks": ""
            },
            "colorscale": [
             [
              0,
              "#0d0887"
             ],
             [
              0.1111111111111111,
              "#46039f"
             ],
             [
              0.2222222222222222,
              "#7201a8"
             ],
             [
              0.3333333333333333,
              "#9c179e"
             ],
             [
              0.4444444444444444,
              "#bd3786"
             ],
             [
              0.5555555555555556,
              "#d8576b"
             ],
             [
              0.6666666666666666,
              "#ed7953"
             ],
             [
              0.7777777777777778,
              "#fb9f3a"
             ],
             [
              0.8888888888888888,
              "#fdca26"
             ],
             [
              1,
              "#f0f921"
             ]
            ],
            "type": "heatmap"
           }
          ],
          "histogram": [
           {
            "marker": {
             "pattern": {
              "fillmode": "overlay",
              "size": 10,
              "solidity": 0.2
             }
            },
            "type": "histogram"
           }
          ],
          "histogram2d": [
           {
            "colorbar": {
             "outlinewidth": 0,
             "ticks": ""
            },
            "colorscale": [
             [
              0,
              "#0d0887"
             ],
             [
              0.1111111111111111,
              "#46039f"
             ],
             [
              0.2222222222222222,
              "#7201a8"
             ],
             [
              0.3333333333333333,
              "#9c179e"
             ],
             [
              0.4444444444444444,
              "#bd3786"
             ],
             [
              0.5555555555555556,
              "#d8576b"
             ],
             [
              0.6666666666666666,
              "#ed7953"
             ],
             [
              0.7777777777777778,
              "#fb9f3a"
             ],
             [
              0.8888888888888888,
              "#fdca26"
             ],
             [
              1,
              "#f0f921"
             ]
            ],
            "type": "histogram2d"
           }
          ],
          "histogram2dcontour": [
           {
            "colorbar": {
             "outlinewidth": 0,
             "ticks": ""
            },
            "colorscale": [
             [
              0,
              "#0d0887"
             ],
             [
              0.1111111111111111,
              "#46039f"
             ],
             [
              0.2222222222222222,
              "#7201a8"
             ],
             [
              0.3333333333333333,
              "#9c179e"
             ],
             [
              0.4444444444444444,
              "#bd3786"
             ],
             [
              0.5555555555555556,
              "#d8576b"
             ],
             [
              0.6666666666666666,
              "#ed7953"
             ],
             [
              0.7777777777777778,
              "#fb9f3a"
             ],
             [
              0.8888888888888888,
              "#fdca26"
             ],
             [
              1,
              "#f0f921"
             ]
            ],
            "type": "histogram2dcontour"
           }
          ],
          "mesh3d": [
           {
            "colorbar": {
             "outlinewidth": 0,
             "ticks": ""
            },
            "type": "mesh3d"
           }
          ],
          "parcoords": [
           {
            "line": {
             "colorbar": {
              "outlinewidth": 0,
              "ticks": ""
             }
            },
            "type": "parcoords"
           }
          ],
          "pie": [
           {
            "automargin": true,
            "type": "pie"
           }
          ],
          "scatter": [
           {
            "fillpattern": {
             "fillmode": "overlay",
             "size": 10,
             "solidity": 0.2
            },
            "type": "scatter"
           }
          ],
          "scatter3d": [
           {
            "line": {
             "colorbar": {
              "outlinewidth": 0,
              "ticks": ""
             }
            },
            "marker": {
             "colorbar": {
              "outlinewidth": 0,
              "ticks": ""
             }
            },
            "type": "scatter3d"
           }
          ],
          "scattercarpet": [
           {
            "marker": {
             "colorbar": {
              "outlinewidth": 0,
              "ticks": ""
             }
            },
            "type": "scattercarpet"
           }
          ],
          "scattergeo": [
           {
            "marker": {
             "colorbar": {
              "outlinewidth": 0,
              "ticks": ""
             }
            },
            "type": "scattergeo"
           }
          ],
          "scattergl": [
           {
            "marker": {
             "colorbar": {
              "outlinewidth": 0,
              "ticks": ""
             }
            },
            "type": "scattergl"
           }
          ],
          "scattermap": [
           {
            "marker": {
             "colorbar": {
              "outlinewidth": 0,
              "ticks": ""
             }
            },
            "type": "scattermap"
           }
          ],
          "scattermapbox": [
           {
            "marker": {
             "colorbar": {
              "outlinewidth": 0,
              "ticks": ""
             }
            },
            "type": "scattermapbox"
           }
          ],
          "scatterpolar": [
           {
            "marker": {
             "colorbar": {
              "outlinewidth": 0,
              "ticks": ""
             }
            },
            "type": "scatterpolar"
           }
          ],
          "scatterpolargl": [
           {
            "marker": {
             "colorbar": {
              "outlinewidth": 0,
              "ticks": ""
             }
            },
            "type": "scatterpolargl"
           }
          ],
          "scatterternary": [
           {
            "marker": {
             "colorbar": {
              "outlinewidth": 0,
              "ticks": ""
             }
            },
            "type": "scatterternary"
           }
          ],
          "surface": [
           {
            "colorbar": {
             "outlinewidth": 0,
             "ticks": ""
            },
            "colorscale": [
             [
              0,
              "#0d0887"
             ],
             [
              0.1111111111111111,
              "#46039f"
             ],
             [
              0.2222222222222222,
              "#7201a8"
             ],
             [
              0.3333333333333333,
              "#9c179e"
             ],
             [
              0.4444444444444444,
              "#bd3786"
             ],
             [
              0.5555555555555556,
              "#d8576b"
             ],
             [
              0.6666666666666666,
              "#ed7953"
             ],
             [
              0.7777777777777778,
              "#fb9f3a"
             ],
             [
              0.8888888888888888,
              "#fdca26"
             ],
             [
              1,
              "#f0f921"
             ]
            ],
            "type": "surface"
           }
          ],
          "table": [
           {
            "cells": {
             "fill": {
              "color": "#EBF0F8"
             },
             "line": {
              "color": "white"
             }
            },
            "header": {
             "fill": {
              "color": "#C8D4E3"
             },
             "line": {
              "color": "white"
             }
            },
            "type": "table"
           }
          ]
         },
         "layout": {
          "annotationdefaults": {
           "arrowcolor": "#2a3f5f",
           "arrowhead": 0,
           "arrowwidth": 1
          },
          "autotypenumbers": "strict",
          "coloraxis": {
           "colorbar": {
            "outlinewidth": 0,
            "ticks": ""
           }
          },
          "colorscale": {
           "diverging": [
            [
             0,
             "#8e0152"
            ],
            [
             0.1,
             "#c51b7d"
            ],
            [
             0.2,
             "#de77ae"
            ],
            [
             0.3,
             "#f1b6da"
            ],
            [
             0.4,
             "#fde0ef"
            ],
            [
             0.5,
             "#f7f7f7"
            ],
            [
             0.6,
             "#e6f5d0"
            ],
            [
             0.7,
             "#b8e186"
            ],
            [
             0.8,
             "#7fbc41"
            ],
            [
             0.9,
             "#4d9221"
            ],
            [
             1,
             "#276419"
            ]
           ],
           "sequential": [
            [
             0,
             "#0d0887"
            ],
            [
             0.1111111111111111,
             "#46039f"
            ],
            [
             0.2222222222222222,
             "#7201a8"
            ],
            [
             0.3333333333333333,
             "#9c179e"
            ],
            [
             0.4444444444444444,
             "#bd3786"
            ],
            [
             0.5555555555555556,
             "#d8576b"
            ],
            [
             0.6666666666666666,
             "#ed7953"
            ],
            [
             0.7777777777777778,
             "#fb9f3a"
            ],
            [
             0.8888888888888888,
             "#fdca26"
            ],
            [
             1,
             "#f0f921"
            ]
           ],
           "sequentialminus": [
            [
             0,
             "#0d0887"
            ],
            [
             0.1111111111111111,
             "#46039f"
            ],
            [
             0.2222222222222222,
             "#7201a8"
            ],
            [
             0.3333333333333333,
             "#9c179e"
            ],
            [
             0.4444444444444444,
             "#bd3786"
            ],
            [
             0.5555555555555556,
             "#d8576b"
            ],
            [
             0.6666666666666666,
             "#ed7953"
            ],
            [
             0.7777777777777778,
             "#fb9f3a"
            ],
            [
             0.8888888888888888,
             "#fdca26"
            ],
            [
             1,
             "#f0f921"
            ]
           ]
          },
          "colorway": [
           "#636efa",
           "#EF553B",
           "#00cc96",
           "#ab63fa",
           "#FFA15A",
           "#19d3f3",
           "#FF6692",
           "#B6E880",
           "#FF97FF",
           "#FECB52"
          ],
          "font": {
           "color": "#2a3f5f"
          },
          "geo": {
           "bgcolor": "white",
           "lakecolor": "white",
           "landcolor": "#E5ECF6",
           "showlakes": true,
           "showland": true,
           "subunitcolor": "white"
          },
          "hoverlabel": {
           "align": "left"
          },
          "hovermode": "closest",
          "mapbox": {
           "style": "light"
          },
          "paper_bgcolor": "white",
          "plot_bgcolor": "#E5ECF6",
          "polar": {
           "angularaxis": {
            "gridcolor": "white",
            "linecolor": "white",
            "ticks": ""
           },
           "bgcolor": "#E5ECF6",
           "radialaxis": {
            "gridcolor": "white",
            "linecolor": "white",
            "ticks": ""
           }
          },
          "scene": {
           "xaxis": {
            "backgroundcolor": "#E5ECF6",
            "gridcolor": "white",
            "gridwidth": 2,
            "linecolor": "white",
            "showbackground": true,
            "ticks": "",
            "zerolinecolor": "white"
           },
           "yaxis": {
            "backgroundcolor": "#E5ECF6",
            "gridcolor": "white",
            "gridwidth": 2,
            "linecolor": "white",
            "showbackground": true,
            "ticks": "",
            "zerolinecolor": "white"
           },
           "zaxis": {
            "backgroundcolor": "#E5ECF6",
            "gridcolor": "white",
            "gridwidth": 2,
            "linecolor": "white",
            "showbackground": true,
            "ticks": "",
            "zerolinecolor": "white"
           }
          },
          "shapedefaults": {
           "line": {
            "color": "#2a3f5f"
           }
          },
          "ternary": {
           "aaxis": {
            "gridcolor": "white",
            "linecolor": "white",
            "ticks": ""
           },
           "baxis": {
            "gridcolor": "white",
            "linecolor": "white",
            "ticks": ""
           },
           "bgcolor": "#E5ECF6",
           "caxis": {
            "gridcolor": "white",
            "linecolor": "white",
            "ticks": ""
           }
          },
          "title": {
           "x": 0.05
          },
          "xaxis": {
           "automargin": true,
           "gridcolor": "white",
           "linecolor": "white",
           "ticks": "",
           "title": {
            "standoff": 15
           },
           "zerolinecolor": "white",
           "zerolinewidth": 2
          },
          "yaxis": {
           "automargin": true,
           "gridcolor": "white",
           "linecolor": "white",
           "ticks": "",
           "title": {
            "standoff": 15
           },
           "zerolinecolor": "white",
           "zerolinewidth": 2
          }
         }
        },
        "title": {
         "text": "Distribución del Precio de Cierre de BNB"
        },
        "xaxis": {
         "anchor": "y",
         "domain": [
          0,
          1
         ],
         "title": {
          "text": "Close"
         }
        },
        "yaxis": {
         "anchor": "x",
         "domain": [
          0,
          1
         ],
         "title": {
          "text": "count"
         }
        }
       }
      }
     },
     "metadata": {},
     "output_type": "display_data"
    }
   ],
   "source": [
    "import pandas as pd\n",
    "import plotly.express as px\n",
    "\n",
    "# Cargar los datos\n",
    "bnb_data = pd.read_csv(r\"C:\\Users\\oscar\\Downloads\\bnb_env\\BNB_sprint7.csv\")\n",
    "\n",
    "# Crear el histograma del precio de cierre\n",
    "fig = px.histogram(\n",
    "    bnb_data,\n",
    "    x=\"Close\",\n",
    "    nbins=50,  # Puedes ajustar el número de bins si quieres más o menos detalle\n",
    "    title=\"Distribución del Precio de Cierre de BNB\",\n",
    "    labels={\"close\": \"Precio de cierre (USD)\", \"count\": \"Frecuencia\"}\n",
    ")\n",
    "\n",
    "fig.show()\n"
   ]
  },
  {
   "cell_type": "code",
   "execution_count": 6,
   "id": "6fc9d7e1",
   "metadata": {},
   "outputs": [
    {
     "data": {
      "application/vnd.plotly.v1+json": {
       "config": {
        "plotlyServerURL": "https://plot.ly"
       },
       "data": [
        {
         "hovertemplate": "Close=%{x}<br>Volume=%{y}<extra></extra>",
         "legendgroup": "",
         "marker": {
          "color": "#636efa",
          "symbol": "circle"
         },
         "mode": "markers",
         "name": "",
         "showlegend": false,
         "type": "scattergl",
         "x": {
          "bdata": "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",
          "dtype": "f8"
         },
         "xaxis": "x",
         "y": {
          "bdata": "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",
          "dtype": "f8"
         },
         "yaxis": "y"
        }
       ],
       "layout": {
        "legend": {
         "tracegroupgap": 0
        },
        "margin": {
         "t": 60
        },
        "template": {
         "data": {
          "bar": [
           {
            "error_x": {
             "color": "#2a3f5f"
            },
            "error_y": {
             "color": "#2a3f5f"
            },
            "marker": {
             "line": {
              "color": "#E5ECF6",
              "width": 0.5
             },
             "pattern": {
              "fillmode": "overlay",
              "size": 10,
              "solidity": 0.2
             }
            },
            "type": "bar"
           }
          ],
          "barpolar": [
           {
            "marker": {
             "line": {
              "color": "#E5ECF6",
              "width": 0.5
             },
             "pattern": {
              "fillmode": "overlay",
              "size": 10,
              "solidity": 0.2
             }
            },
            "type": "barpolar"
           }
          ],
          "carpet": [
           {
            "aaxis": {
             "endlinecolor": "#2a3f5f",
             "gridcolor": "white",
             "linecolor": "white",
             "minorgridcolor": "white",
             "startlinecolor": "#2a3f5f"
            },
            "baxis": {
             "endlinecolor": "#2a3f5f",
             "gridcolor": "white",
             "linecolor": "white",
             "minorgridcolor": "white",
             "startlinecolor": "#2a3f5f"
            },
            "type": "carpet"
           }
          ],
          "choropleth": [
           {
            "colorbar": {
             "outlinewidth": 0,
             "ticks": ""
            },
            "type": "choropleth"
           }
          ],
          "contour": [
           {
            "colorbar": {
             "outlinewidth": 0,
             "ticks": ""
            },
            "colorscale": [
             [
              0,
              "#0d0887"
             ],
             [
              0.1111111111111111,
              "#46039f"
             ],
             [
              0.2222222222222222,
              "#7201a8"
             ],
             [
              0.3333333333333333,
              "#9c179e"
             ],
             [
              0.4444444444444444,
              "#bd3786"
             ],
             [
              0.5555555555555556,
              "#d8576b"
             ],
             [
              0.6666666666666666,
              "#ed7953"
             ],
             [
              0.7777777777777778,
              "#fb9f3a"
             ],
             [
              0.8888888888888888,
              "#fdca26"
             ],
             [
              1,
              "#f0f921"
             ]
            ],
            "type": "contour"
           }
          ],
          "contourcarpet": [
           {
            "colorbar": {
             "outlinewidth": 0,
             "ticks": ""
            },
            "type": "contourcarpet"
           }
          ],
          "heatmap": [
           {
            "colorbar": {
             "outlinewidth": 0,
             "ticks": ""
            },
            "colorscale": [
             [
              0,
              "#0d0887"
             ],
             [
              0.1111111111111111,
              "#46039f"
             ],
             [
              0.2222222222222222,
              "#7201a8"
             ],
             [
              0.3333333333333333,
              "#9c179e"
             ],
             [
              0.4444444444444444,
              "#bd3786"
             ],
             [
              0.5555555555555556,
              "#d8576b"
             ],
             [
              0.6666666666666666,
              "#ed7953"
             ],
             [
              0.7777777777777778,
              "#fb9f3a"
             ],
             [
              0.8888888888888888,
              "#fdca26"
             ],
             [
              1,
              "#f0f921"
             ]
            ],
            "type": "heatmap"
           }
          ],
          "histogram": [
           {
            "marker": {
             "pattern": {
              "fillmode": "overlay",
              "size": 10,
              "solidity": 0.2
             }
            },
            "type": "histogram"
           }
          ],
          "histogram2d": [
           {
            "colorbar": {
             "outlinewidth": 0,
             "ticks": ""
            },
            "colorscale": [
             [
              0,
              "#0d0887"
             ],
             [
              0.1111111111111111,
              "#46039f"
             ],
             [
              0.2222222222222222,
              "#7201a8"
             ],
             [
              0.3333333333333333,
              "#9c179e"
             ],
             [
              0.4444444444444444,
              "#bd3786"
             ],
             [
              0.5555555555555556,
              "#d8576b"
             ],
             [
              0.6666666666666666,
              "#ed7953"
             ],
             [
              0.7777777777777778,
              "#fb9f3a"
             ],
             [
              0.8888888888888888,
              "#fdca26"
             ],
             [
              1,
              "#f0f921"
             ]
            ],
            "type": "histogram2d"
           }
          ],
          "histogram2dcontour": [
           {
            "colorbar": {
             "outlinewidth": 0,
             "ticks": ""
            },
            "colorscale": [
             [
              0,
              "#0d0887"
             ],
             [
              0.1111111111111111,
              "#46039f"
             ],
             [
              0.2222222222222222,
              "#7201a8"
             ],
             [
              0.3333333333333333,
              "#9c179e"
             ],
             [
              0.4444444444444444,
              "#bd3786"
             ],
             [
              0.5555555555555556,
              "#d8576b"
             ],
             [
              0.6666666666666666,
              "#ed7953"
             ],
             [
              0.7777777777777778,
              "#fb9f3a"
             ],
             [
              0.8888888888888888,
              "#fdca26"
             ],
             [
              1,
              "#f0f921"
             ]
            ],
            "type": "histogram2dcontour"
           }
          ],
          "mesh3d": [
           {
            "colorbar": {
             "outlinewidth": 0,
             "ticks": ""
            },
            "type": "mesh3d"
           }
          ],
          "parcoords": [
           {
            "line": {
             "colorbar": {
              "outlinewidth": 0,
              "ticks": ""
             }
            },
            "type": "parcoords"
           }
          ],
          "pie": [
           {
            "automargin": true,
            "type": "pie"
           }
          ],
          "scatter": [
           {
            "fillpattern": {
             "fillmode": "overlay",
             "size": 10,
             "solidity": 0.2
            },
            "type": "scatter"
           }
          ],
          "scatter3d": [
           {
            "line": {
             "colorbar": {
              "outlinewidth": 0,
              "ticks": ""
             }
            },
            "marker": {
             "colorbar": {
              "outlinewidth": 0,
              "ticks": ""
             }
            },
            "type": "scatter3d"
           }
          ],
          "scattercarpet": [
           {
            "marker": {
             "colorbar": {
              "outlinewidth": 0,
              "ticks": ""
             }
            },
            "type": "scattercarpet"
           }
          ],
          "scattergeo": [
           {
            "marker": {
             "colorbar": {
              "outlinewidth": 0,
              "ticks": ""
             }
            },
            "type": "scattergeo"
           }
          ],
          "scattergl": [
           {
            "marker": {
             "colorbar": {
              "outlinewidth": 0,
              "ticks": ""
             }
            },
            "type": "scattergl"
           }
          ],
          "scattermap": [
           {
            "marker": {
             "colorbar": {
              "outlinewidth": 0,
              "ticks": ""
             }
            },
            "type": "scattermap"
           }
          ],
          "scattermapbox": [
           {
            "marker": {
             "colorbar": {
              "outlinewidth": 0,
              "ticks": ""
             }
            },
            "type": "scattermapbox"
           }
          ],
          "scatterpolar": [
           {
            "marker": {
             "colorbar": {
              "outlinewidth": 0,
              "ticks": ""
             }
            },
            "type": "scatterpolar"
           }
          ],
          "scatterpolargl": [
           {
            "marker": {
             "colorbar": {
              "outlinewidth": 0,
              "ticks": ""
             }
            },
            "type": "scatterpolargl"
           }
          ],
          "scatterternary": [
           {
            "marker": {
             "colorbar": {
              "outlinewidth": 0,
              "ticks": ""
             }
            },
            "type": "scatterternary"
           }
          ],
          "surface": [
           {
            "colorbar": {
             "outlinewidth": 0,
             "ticks": ""
            },
            "colorscale": [
             [
              0,
              "#0d0887"
             ],
             [
              0.1111111111111111,
              "#46039f"
             ],
             [
              0.2222222222222222,
              "#7201a8"
             ],
             [
              0.3333333333333333,
              "#9c179e"
             ],
             [
              0.4444444444444444,
              "#bd3786"
             ],
             [
              0.5555555555555556,
              "#d8576b"
             ],
             [
              0.6666666666666666,
              "#ed7953"
             ],
             [
              0.7777777777777778,
              "#fb9f3a"
             ],
             [
              0.8888888888888888,
              "#fdca26"
             ],
             [
              1,
              "#f0f921"
             ]
            ],
            "type": "surface"
           }
          ],
          "table": [
           {
            "cells": {
             "fill": {
              "color": "#EBF0F8"
             },
             "line": {
              "color": "white"
             }
            },
            "header": {
             "fill": {
              "color": "#C8D4E3"
             },
             "line": {
              "color": "white"
             }
            },
            "type": "table"
           }
          ]
         },
         "layout": {
          "annotationdefaults": {
           "arrowcolor": "#2a3f5f",
           "arrowhead": 0,
           "arrowwidth": 1
          },
          "autotypenumbers": "strict",
          "coloraxis": {
           "colorbar": {
            "outlinewidth": 0,
            "ticks": ""
           }
          },
          "colorscale": {
           "diverging": [
            [
             0,
             "#8e0152"
            ],
            [
             0.1,
             "#c51b7d"
            ],
            [
             0.2,
             "#de77ae"
            ],
            [
             0.3,
             "#f1b6da"
            ],
            [
             0.4,
             "#fde0ef"
            ],
            [
             0.5,
             "#f7f7f7"
            ],
            [
             0.6,
             "#e6f5d0"
            ],
            [
             0.7,
             "#b8e186"
            ],
            [
             0.8,
             "#7fbc41"
            ],
            [
             0.9,
             "#4d9221"
            ],
            [
             1,
             "#276419"
            ]
           ],
           "sequential": [
            [
             0,
             "#0d0887"
            ],
            [
             0.1111111111111111,
             "#46039f"
            ],
            [
             0.2222222222222222,
             "#7201a8"
            ],
            [
             0.3333333333333333,
             "#9c179e"
            ],
            [
             0.4444444444444444,
             "#bd3786"
            ],
            [
             0.5555555555555556,
             "#d8576b"
            ],
            [
             0.6666666666666666,
             "#ed7953"
            ],
            [
             0.7777777777777778,
             "#fb9f3a"
            ],
            [
             0.8888888888888888,
             "#fdca26"
            ],
            [
             1,
             "#f0f921"
            ]
           ],
           "sequentialminus": [
            [
             0,
             "#0d0887"
            ],
            [
             0.1111111111111111,
             "#46039f"
            ],
            [
             0.2222222222222222,
             "#7201a8"
            ],
            [
             0.3333333333333333,
             "#9c179e"
            ],
            [
             0.4444444444444444,
             "#bd3786"
            ],
            [
             0.5555555555555556,
             "#d8576b"
            ],
            [
             0.6666666666666666,
             "#ed7953"
            ],
            [
             0.7777777777777778,
             "#fb9f3a"
            ],
            [
             0.8888888888888888,
             "#fdca26"
            ],
            [
             1,
             "#f0f921"
            ]
           ]
          },
          "colorway": [
           "#636efa",
           "#EF553B",
           "#00cc96",
           "#ab63fa",
           "#FFA15A",
           "#19d3f3",
           "#FF6692",
           "#B6E880",
           "#FF97FF",
           "#FECB52"
          ],
          "font": {
           "color": "#2a3f5f"
          },
          "geo": {
           "bgcolor": "white",
           "lakecolor": "white",
           "landcolor": "#E5ECF6",
           "showlakes": true,
           "showland": true,
           "subunitcolor": "white"
          },
          "hoverlabel": {
           "align": "left"
          },
          "hovermode": "closest",
          "mapbox": {
           "style": "light"
          },
          "paper_bgcolor": "white",
          "plot_bgcolor": "#E5ECF6",
          "polar": {
           "angularaxis": {
            "gridcolor": "white",
            "linecolor": "white",
            "ticks": ""
           },
           "bgcolor": "#E5ECF6",
           "radialaxis": {
            "gridcolor": "white",
            "linecolor": "white",
            "ticks": ""
           }
          },
          "scene": {
           "xaxis": {
            "backgroundcolor": "#E5ECF6",
            "gridcolor": "white",
            "gridwidth": 2,
            "linecolor": "white",
            "showbackground": true,
            "ticks": "",
            "zerolinecolor": "white"
           },
           "yaxis": {
            "backgroundcolor": "#E5ECF6",
            "gridcolor": "white",
            "gridwidth": 2,
            "linecolor": "white",
            "showbackground": true,
            "ticks": "",
            "zerolinecolor": "white"
           },
           "zaxis": {
            "backgroundcolor": "#E5ECF6",
            "gridcolor": "white",
            "gridwidth": 2,
            "linecolor": "white",
            "showbackground": true,
            "ticks": "",
            "zerolinecolor": "white"
           }
          },
          "shapedefaults": {
           "line": {
            "color": "#2a3f5f"
           }
          },
          "ternary": {
           "aaxis": {
            "gridcolor": "white",
            "linecolor": "white",
            "ticks": ""
           },
           "baxis": {
            "gridcolor": "white",
            "linecolor": "white",
            "ticks": ""
           },
           "bgcolor": "#E5ECF6",
           "caxis": {
            "gridcolor": "white",
            "linecolor": "white",
            "ticks": ""
           }
          },
          "title": {
           "x": 0.05
          },
          "xaxis": {
           "automargin": true,
           "gridcolor": "white",
           "linecolor": "white",
           "ticks": "",
           "title": {
            "standoff": 15
           },
           "zerolinecolor": "white",
           "zerolinewidth": 2
          },
          "yaxis": {
           "automargin": true,
           "gridcolor": "white",
           "linecolor": "white",
           "ticks": "",
           "title": {
            "standoff": 15
           },
           "zerolinecolor": "white",
           "zerolinewidth": 2
          }
         }
        },
        "xaxis": {
         "anchor": "y",
         "domain": [
          0,
          1
         ],
         "title": {
          "text": "Close"
         }
        },
        "yaxis": {
         "anchor": "x",
         "domain": [
          0,
          1
         ],
         "title": {
          "text": "Volume"
         }
        }
       }
      }
     },
     "metadata": {},
     "output_type": "display_data"
    }
   ],
   "source": [
    "# ¿Qué tanto se comercia (volumen) cuando el precio de BNB sube o baja?\n",
    "fig = px.scatter(bnb_data, x=\"Close\", y=\"Volume\")\n",
    "fig.show()"
   ]
  }
 ],
 "metadata": {
  "kernelspec": {
   "display_name": "base",
   "language": "python",
   "name": "python3"
  },
  "language_info": {
   "codemirror_mode": {
    "name": "ipython",
    "version": 3
   },
   "file_extension": ".py",
   "mimetype": "text/x-python",
   "name": "python",
   "nbconvert_exporter": "python",
   "pygments_lexer": "ipython3",
   "version": "3.12.7"
  }
 },
 "nbformat": 4,
 "nbformat_minor": 5
}
